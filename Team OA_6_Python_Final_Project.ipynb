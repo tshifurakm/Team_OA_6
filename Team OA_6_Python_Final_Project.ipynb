{
 "cells": [
  {
   "cell_type": "markdown",
   "id": "e295ca71-8d10-4ec2-be5c-3026bd2e4d60",
   "metadata": {},
   "source": [
    "<h2 style=\"color:green; background-color:white; text-align:center; font-weight:bold;\">VEGETABLE PRICES DATA ANALYSIS PROJECT</h2>"
   ]
  },
  {
   "cell_type": "markdown",
   "id": "de80c84a-53e0-4ee7-b38a-706e87938fa8",
   "metadata": {},
   "source": [
    "## 1. PROJECT OVERVIEW"
   ]
  },
  {
   "cell_type": "markdown",
   "id": "4e001355-6112-4c55-a6b1-99f7775c7c36",
   "metadata": {},
   "source": [
    "#### 1.1. Introduction\n",
    "\n",
    "In the bustling world of agricultural markets, where prices can fluctuate as wildly as the weather, understanding the dynamics of vegetable prices is crucial. Picture this: a farmer waking up before dawn, carefully tending to rows of vibrant green crops, each one representing not just sustenance, but livelihood. Yet, as the sun rises, so does uncertainty. Will the prices at market today yield enough profit to sustain the farm? Or will they plummet unexpectedly, leaving the farmer grappling with the harsh realities of an unpredictable market?"
   ]
  },
  {
   "cell_type": "markdown",
   "id": "2c6f9675-9781-467e-8f58-78a29d0fdd3d",
   "metadata": {},
   "source": [
    "#### 1.2. Problem Statement:\n",
    "\n",
    "The Directorate of Marketing & Inspection (DMI), Ministry of Agriculture and Farmers Welfare and the Government of India, collects extensive data on vegetable prices across different regions in India. However, the lack of comprehensive analysis and insights derived from this data hinders effective decision-making in the agricultural sector. Therefore, the primary problem addressed in this project is to analyze the vegetable pricing trends over a one-year period, leveraging the available dataset. Specifically, the analysis aims to identify patterns, trends, and factors influencing price fluctuations in various types of vegetables across different regions. By addressing this problem, the project seeks to provide actionable insights that can inform policymakers, farmers, and traders, facilitating better decision-making and optimization of pricing strategies, supply chain efficiency, and risk mitigation in the agricultural market."
   ]
  },
  {
   "cell_type": "markdown",
   "id": "89dd9f45-fbc3-44cb-8330-8d2662d9ef6c",
   "metadata": {},
   "source": [
    "#### 1.3. Objective of the Project: \n",
    "\n",
    "•To analyze vegetable pricing trends across different regions in India over a year.\n",
    "\n",
    "•To identify patterns, trends, and factors influencing price fluctuations in agricultural markets. \n",
    "\n",
    "•To provide insights that can inform stakeholders such as policymakers, farmers, and traders, facilitating better decision-making in the agricultural sector."
   ]
  },
  {
   "cell_type": "markdown",
   "id": "543be4c4-4915-4f1f-96ca-2fe43d67eb1d",
   "metadata": {},
   "source": [
    "#### 1.4. Data Source: \n",
    "\n",
    "The dataset used in this project is from Kaggle and was sourced from the Directorate of Marketing & Inspection (DMI), Ministry of Agriculture and Farmers Welfare, Government of India. The dataset comprises prices of ten different types of vegetables recorded over time, allowing for comprehensive analysis of pricing dynamics."
   ]
  },
  {
   "cell_type": "markdown",
   "id": "69fae50b-fa5d-4fdb-a2c9-218a21e999ac",
   "metadata": {},
   "source": [
    "#### 1.5. Importance of the Study:\n",
    "\n",
    "This project holds significant importance in understanding the dynamics of vegetable pricing in India's agricultural market. Analyzing vegetable price trends can aid in optimizing pricing strategies, enables better resource allocation, market forecasting, policy formulation to ensure food security and economic stabilityimproving supply chain efficiency, and mitigating risks associated with price fluctuations. Additionally, insights derived from this study can contribute to informed decision-making by policymakers, ultimately benefiting farmers, traders, and consumers alike. Understanding vegetable price dynamics is crucial for stakeholders in agriculture, economics, and public policy."
   ]
  },
  {
   "cell_type": "markdown",
   "id": "65ae7820-7726-44cf-861a-eb15c8335c02",
   "metadata": {},
   "source": [
    "#### 1.6. Key Questions or Hypotheses:\n",
    "\n",
    "•   What external factors influence price volatility, such as weather conditions or supply chain disruptions?\n",
    "\n",
    "•\tAre there significant variations in prices among different types of vegetables?\n",
    "\n",
    "•\tHow do external factors such as seasonality, market demand influence vegetable prices?\n",
    "\n",
    "•\tCan we identify any patterns or anomalies in pricing trends that may require further investigation?"
   ]
  },
  {
   "cell_type": "markdown",
   "id": "275160c8-5c9a-46cd-b0bc-4c383c9352c1",
   "metadata": {},
   "source": [
    "#### 1.7. Methodology Overview:\n",
    "\n",
    "•\tThe analysis will involve exploratory data analysis (EDA) to visualize and understand the distribution of vegetable prices over time and across regions. \n",
    "\n",
    "•\tStatistical analysis will be conducted to quantify variability, identify significant differences, and assess correlations between variables. \n",
    "\n",
    "•\tTime series analysis techniques will be employed to model and forecast future vegetable prices. \n",
    "\n",
    "•\tAdditionally, predictive modeling may be utilized to estimate pricing trends based on historical data and relevant features."
   ]
  },
  {
   "cell_type": "markdown",
   "id": "5225c982-8f9d-46fe-a835-499cc73ca38c",
   "metadata": {},
   "source": [
    "#### 1.8. Expected Outcomes: \n",
    "\n",
    "The project is expected to yield insights into the drivers of vegetable pricing trends in India, including seasonal patterns, regional variations, and the impact of external factors. These findings can inform stakeholders about market dynamics, enabling them to make informed decisions and implement strategies to enhance efficiency and stability in the agricultural sector."
   ]
  },
  {
   "cell_type": "markdown",
   "id": "1ba2329f-6c53-469c-b883-acfaf00307fd",
   "metadata": {},
   "source": [
    "## 2. IMPORTING PACKAGES"
   ]
  },
  {
   "cell_type": "code",
   "execution_count": 56,
   "id": "200e0792-7ba2-49cf-9c00-7fc7d09f1f58",
   "metadata": {},
   "outputs": [
    {
     "ename": "SyntaxError",
     "evalue": "invalid syntax (1926367569.py, line 4)",
     "output_type": "error",
     "traceback": [
      "\u001b[0;36m  Cell \u001b[0;32mIn[56], line 4\u001b[0;36m\u001b[0m\n\u001b[0;31m    jupyter contrib nbextension install --user\u001b[0m\n\u001b[0m            ^\u001b[0m\n\u001b[0;31mSyntaxError\u001b[0m\u001b[0;31m:\u001b[0m invalid syntax\n"
     ]
    }
   ],
   "source": [
    "# Libraries for data loading, manipulation and analysis\n",
    "!pip install missingno\n",
    "import numpy as np\n",
    "import pandas as pd\n",
    "import csv\n",
    "import seaborn as sns\n",
    "import matplotlib.pyplot as plt\n",
    "import missingno as msno\n",
    "import scipy.stats as stats\n",
    "import statsmodels.api as sm\n",
    "\n",
    "\n",
    "# Displays output inline\n",
    "%matplotlib inline\n",
    "\n",
    "# Libraries for Handing Errors\n",
    "import warnings\n",
    "warnings.filterwarnings('ignore')"
   ]
  },
  {
   "cell_type": "markdown",
   "id": "8abc8677-6c45-4afe-8757-c4b8023753ff",
   "metadata": {},
   "source": [
    "## 3. LOADING DATA"
   ]
  },
  {
   "cell_type": "code",
   "execution_count": 35,
   "id": "59637483-9c0c-4873-b064-385d456364bc",
   "metadata": {},
   "outputs": [
    {
     "data": {
      "text/html": [
       "<div>\n",
       "<style scoped>\n",
       "    .dataframe tbody tr th:only-of-type {\n",
       "        vertical-align: middle;\n",
       "    }\n",
       "\n",
       "    .dataframe tbody tr th {\n",
       "        vertical-align: top;\n",
       "    }\n",
       "\n",
       "    .dataframe thead th {\n",
       "        text-align: right;\n",
       "    }\n",
       "</style>\n",
       "<table border=\"1\" class=\"dataframe\">\n",
       "  <thead>\n",
       "    <tr style=\"text-align: right;\">\n",
       "      <th></th>\n",
       "      <th>Price Dates</th>\n",
       "      <th>Bhindi (Ladies finger)</th>\n",
       "      <th>Tomato</th>\n",
       "      <th>Onion</th>\n",
       "      <th>Potato</th>\n",
       "      <th>Brinjal</th>\n",
       "      <th>Garlic</th>\n",
       "      <th>Peas</th>\n",
       "      <th>Methi</th>\n",
       "      <th>Green Chilli</th>\n",
       "      <th>Elephant Yam (Suran)</th>\n",
       "    </tr>\n",
       "  </thead>\n",
       "  <tbody>\n",
       "    <tr>\n",
       "      <th>0</th>\n",
       "      <td>01-01-2023</td>\n",
       "      <td>35.0</td>\n",
       "      <td>18</td>\n",
       "      <td>22.0</td>\n",
       "      <td>20</td>\n",
       "      <td>30</td>\n",
       "      <td>50</td>\n",
       "      <td>25</td>\n",
       "      <td>8</td>\n",
       "      <td>45.0</td>\n",
       "      <td>25</td>\n",
       "    </tr>\n",
       "    <tr>\n",
       "      <th>1</th>\n",
       "      <td>02-01-2023</td>\n",
       "      <td>35.0</td>\n",
       "      <td>16</td>\n",
       "      <td>22.0</td>\n",
       "      <td>20</td>\n",
       "      <td>30</td>\n",
       "      <td>55</td>\n",
       "      <td>25</td>\n",
       "      <td>7</td>\n",
       "      <td>40.0</td>\n",
       "      <td>25</td>\n",
       "    </tr>\n",
       "    <tr>\n",
       "      <th>2</th>\n",
       "      <td>03-01-2023</td>\n",
       "      <td>35.0</td>\n",
       "      <td>16</td>\n",
       "      <td>21.0</td>\n",
       "      <td>20</td>\n",
       "      <td>30</td>\n",
       "      <td>55</td>\n",
       "      <td>25</td>\n",
       "      <td>7</td>\n",
       "      <td>40.0</td>\n",
       "      <td>25</td>\n",
       "    </tr>\n",
       "    <tr>\n",
       "      <th>3</th>\n",
       "      <td>04-01-2023</td>\n",
       "      <td>30.0</td>\n",
       "      <td>16</td>\n",
       "      <td>21.0</td>\n",
       "      <td>22</td>\n",
       "      <td>25</td>\n",
       "      <td>55</td>\n",
       "      <td>25</td>\n",
       "      <td>7</td>\n",
       "      <td>40.0</td>\n",
       "      <td>25</td>\n",
       "    </tr>\n",
       "    <tr>\n",
       "      <th>4</th>\n",
       "      <td>08-01-2023</td>\n",
       "      <td>35.0</td>\n",
       "      <td>16</td>\n",
       "      <td>20.0</td>\n",
       "      <td>21</td>\n",
       "      <td>25</td>\n",
       "      <td>55</td>\n",
       "      <td>22</td>\n",
       "      <td>6</td>\n",
       "      <td>35.0</td>\n",
       "      <td>25</td>\n",
       "    </tr>\n",
       "    <tr>\n",
       "      <th>5</th>\n",
       "      <td>11-01-2023</td>\n",
       "      <td>35.0</td>\n",
       "      <td>16</td>\n",
       "      <td>18.0</td>\n",
       "      <td>24</td>\n",
       "      <td>25</td>\n",
       "      <td>55</td>\n",
       "      <td>23</td>\n",
       "      <td>6</td>\n",
       "      <td>35.0</td>\n",
       "      <td>30</td>\n",
       "    </tr>\n",
       "    <tr>\n",
       "      <th>6</th>\n",
       "      <td>12-01-2023</td>\n",
       "      <td>40.0</td>\n",
       "      <td>16</td>\n",
       "      <td>18.0</td>\n",
       "      <td>22</td>\n",
       "      <td>30</td>\n",
       "      <td>65</td>\n",
       "      <td>23</td>\n",
       "      <td>6</td>\n",
       "      <td>35.0</td>\n",
       "      <td>30</td>\n",
       "    </tr>\n",
       "    <tr>\n",
       "      <th>7</th>\n",
       "      <td>15-01-2023</td>\n",
       "      <td>42.0</td>\n",
       "      <td>16</td>\n",
       "      <td>17.0</td>\n",
       "      <td>22</td>\n",
       "      <td>25</td>\n",
       "      <td>65</td>\n",
       "      <td>23</td>\n",
       "      <td>7</td>\n",
       "      <td>35.0</td>\n",
       "      <td>30</td>\n",
       "    </tr>\n",
       "    <tr>\n",
       "      <th>8</th>\n",
       "      <td>17-01-2023</td>\n",
       "      <td>35.0</td>\n",
       "      <td>16</td>\n",
       "      <td>18.0</td>\n",
       "      <td>22</td>\n",
       "      <td>30</td>\n",
       "      <td>65</td>\n",
       "      <td>22</td>\n",
       "      <td>10</td>\n",
       "      <td>40.0</td>\n",
       "      <td>35</td>\n",
       "    </tr>\n",
       "    <tr>\n",
       "      <th>9</th>\n",
       "      <td>22-01-2023</td>\n",
       "      <td>45.0</td>\n",
       "      <td>16</td>\n",
       "      <td>18.0</td>\n",
       "      <td>22</td>\n",
       "      <td>40</td>\n",
       "      <td>65</td>\n",
       "      <td>25</td>\n",
       "      <td>9</td>\n",
       "      <td>40.0</td>\n",
       "      <td>35</td>\n",
       "    </tr>\n",
       "  </tbody>\n",
       "</table>\n",
       "</div>"
      ],
      "text/plain": [
       "  Price Dates  Bhindi (Ladies finger)  Tomato  Onion  Potato  Brinjal  Garlic  \\\n",
       "0  01-01-2023                    35.0      18   22.0      20       30      50   \n",
       "1  02-01-2023                    35.0      16   22.0      20       30      55   \n",
       "2  03-01-2023                    35.0      16   21.0      20       30      55   \n",
       "3  04-01-2023                    30.0      16   21.0      22       25      55   \n",
       "4  08-01-2023                    35.0      16   20.0      21       25      55   \n",
       "5  11-01-2023                    35.0      16   18.0      24       25      55   \n",
       "6  12-01-2023                    40.0      16   18.0      22       30      65   \n",
       "7  15-01-2023                    42.0      16   17.0      22       25      65   \n",
       "8  17-01-2023                    35.0      16   18.0      22       30      65   \n",
       "9  22-01-2023                    45.0      16   18.0      22       40      65   \n",
       "\n",
       "   Peas  Methi  Green Chilli  Elephant Yam (Suran)  \n",
       "0    25      8          45.0                    25  \n",
       "1    25      7          40.0                    25  \n",
       "2    25      7          40.0                    25  \n",
       "3    25      7          40.0                    25  \n",
       "4    22      6          35.0                    25  \n",
       "5    23      6          35.0                    30  \n",
       "6    23      6          35.0                    30  \n",
       "7    23      7          35.0                    30  \n",
       "8    22     10          40.0                    35  \n",
       "9    25      9          40.0                    35  "
      ]
     },
     "execution_count": 35,
     "metadata": {},
     "output_type": "execute_result"
    }
   ],
   "source": [
    "# loading dataset\n",
    "df = pd.read_csv(\"prices.csv\", index_col=False)\n",
    "df.head(10)"
   ]
  },
  {
   "cell_type": "markdown",
   "id": "f5373780-af69-4959-9860-fc983777d012",
   "metadata": {},
   "source": [
    "<font color=\"red\" face=\"arial\">To prevent any major unnecessary changes occurring to the original data, a copy of the dataframe was made using the df.copy() method and referred to as <span style=\"background-color: pink;\">`df_copy`</span>.</font>"
   ]
  },
  {
   "cell_type": "code",
   "execution_count": 36,
   "id": "12050c50",
   "metadata": {},
   "outputs": [],
   "source": [
    "# The copy of the dataframe\n",
    "df_copy = df.copy()"
   ]
  },
  {
   "cell_type": "markdown",
   "id": "648e5457",
   "metadata": {},
   "source": [
    "First look at the shape of the dataframe by using .shape."
   ]
  },
  {
   "cell_type": "code",
   "execution_count": 37,
   "id": "0a2f7d9f",
   "metadata": {},
   "outputs": [
    {
     "data": {
      "text/plain": [
       "(287, 11)"
      ]
     },
     "execution_count": 37,
     "metadata": {},
     "output_type": "execute_result"
    }
   ],
   "source": [
    "# Displays the number of rows and columns\n",
    "df_copy.shape"
   ]
  },
  {
   "cell_type": "markdown",
   "id": "400c5304",
   "metadata": {},
   "source": [
    "Results : The dataset consists of 287 rows (observations) and 11 columns (features).\n",
    "\n",
    "One of the univariate analysis (non-graphical), is the method .info(). This method outputs important details about the dataset which includes the columns: the data types (Dtype) of the columns and the count of non-null values."
   ]
  },
  {
   "cell_type": "code",
   "execution_count": 38,
   "id": "c0dcdead",
   "metadata": {},
   "outputs": [
    {
     "name": "stdout",
     "output_type": "stream",
     "text": [
      "<class 'pandas.core.frame.DataFrame'>\n",
      "RangeIndex: 287 entries, 0 to 286\n",
      "Data columns (total 11 columns):\n",
      " #   Column                  Non-Null Count  Dtype  \n",
      "---  ------                  --------------  -----  \n",
      " 0   Price Dates             287 non-null    object \n",
      " 1   Bhindi (Ladies finger)  287 non-null    float64\n",
      " 2   Tomato                  287 non-null    int64  \n",
      " 3   Onion                   287 non-null    float64\n",
      " 4   Potato                  287 non-null    int64  \n",
      " 5   Brinjal                 287 non-null    int64  \n",
      " 6   Garlic                  287 non-null    int64  \n",
      " 7   Peas                    287 non-null    int64  \n",
      " 8   Methi                   287 non-null    int64  \n",
      " 9   Green Chilli            287 non-null    float64\n",
      " 10  Elephant Yam (Suran)    287 non-null    int64  \n",
      "dtypes: float64(3), int64(7), object(1)\n",
      "memory usage: 24.8+ KB\n"
     ]
    }
   ],
   "source": [
    "## Display summary information about the DataFrame.\n",
    "df_copy.info()"
   ]
  },
  {
   "cell_type": "markdown",
   "id": "6aafe87b",
   "metadata": {},
   "source": [
    "Results: "
   ]
  },
  {
   "cell_type": "markdown",
   "id": "ed39b804",
   "metadata": {},
   "source": [
    "## 4. DATA CLEANING"
   ]
  },
  {
   "cell_type": "markdown",
   "id": "02284da9",
   "metadata": {},
   "source": [
    "Data cleaning is the process of identifying and correcting errors, inconsistencies, and inaccuracies in a dataset to improve its quality and reliability for analysis. It is a crucial step in the data analysis process as it ensures that the data used for analysis is accurate, complete, and consistent.Data cleaning typically involves several steps, including: Handling missing data, Removing duplicates, Standardizing data formats, Handling outliers, Normalizing or scaling data and Data validation"
   ]
  },
  {
   "cell_type": "markdown",
   "id": "0b5c5fd8",
   "metadata": {},
   "source": [
    "The check_null_values function iterates over each column in a DataFrame to identify and print the count of null values, providing column-specific null counts."
   ]
  },
  {
   "cell_type": "code",
   "execution_count": 39,
   "id": "1a2b920d",
   "metadata": {},
   "outputs": [],
   "source": [
    "def check_null_values(df_copy):\n",
    "    \"\"\"\n",
    "    Print the count of null values for each column in a DataFrame.\n",
    "\n",
    "    This function iterates through each column in the DataFrame to check for the presence of null values.\n",
    "    If a column contains null values, it prints the column name along with the number of null values.\n",
    "\n",
    "    Parameters:\n",
    "    df (DataFrame): The pandas DataFrame to check for null values.\n",
    "\n",
    "    Returns:\n",
    "    None: This function does not return a value; it only prints information.\n",
    "    \"\"\"\n",
    "    for column in df_copy:\n",
    "        if df_copy[column].isnull().any():\n",
    "            print('{0} has {1} null values'.format(column, df_copy[column].isnull().sum()))"
   ]
  },
  {
   "cell_type": "code",
   "execution_count": 40,
   "id": "b1c33ee3",
   "metadata": {},
   "outputs": [],
   "source": [
    "check_null_values(df_copy)"
   ]
  },
  {
   "cell_type": "markdown",
   "id": "fa6efc64",
   "metadata": {},
   "source": [
    "Results: There are no null values"
   ]
  },
  {
   "cell_type": "markdown",
   "id": "bfa33903",
   "metadata": {},
   "source": [
    "The preprocess_data function performs essential data cleaning operations on a DataFrame, setting missing values, filling in gaps with statistical measures (mean and median), and dropping non-essential columns. After processing, it prints the first two rows of the cleaned DataFrame for quick inspection and returns the entire modified DataFrame for further use."
   ]
  },
  {
   "cell_type": "code",
   "execution_count": 42,
   "id": "c6884abb",
   "metadata": {},
   "outputs": [
    {
     "name": "stdout",
     "output_type": "stream",
     "text": [
      "    Price Dates  Bhindi (Ladies finger)  Tomato  Onion  Potato  Brinjal  \\\n",
      "0    01-01-2023                    35.0      18   22.0      20       30   \n",
      "1    02-01-2023                    35.0      16   22.0      20       30   \n",
      "2    03-01-2023                    35.0      16   21.0      20       30   \n",
      "3    04-01-2023                    30.0      16   21.0      22       25   \n",
      "4    08-01-2023                    35.0      16   20.0      21       25   \n",
      "..          ...                     ...     ...    ...     ...      ...   \n",
      "282  27-12-2023                    45.0      16   30.0      20       70   \n",
      "283  28-12-2023                    45.0      16   30.0      20       70   \n",
      "284  29-12-2023                    45.0      16   30.0      22       80   \n",
      "285  31-12-2023                    45.0      16   26.0      20       60   \n",
      "286  01-01-2024                    45.0      16    9.0      18       50   \n",
      "\n",
      "     Garlic  Peas  Methi  Green Chilli  Elephant Yam (Suran)  \n",
      "0        50    25      8          45.0                    25  \n",
      "1        55    25      7          40.0                    25  \n",
      "2        55    25      7          40.0                    25  \n",
      "3        55    25      7          40.0                    25  \n",
      "4        55    22      6          35.0                    25  \n",
      "..      ...   ...    ...           ...                   ...  \n",
      "282     260    40     16          40.0                    25  \n",
      "283     260    30     20          45.0                    25  \n",
      "284     260    30     18          50.0                    25  \n",
      "285     250    40     16          50.0                    40  \n",
      "286     260    40     15          60.0                    25  \n",
      "\n",
      "[287 rows x 11 columns]\n"
     ]
    }
   ],
   "source": [
    "def preprocess_data(df_copy):\n",
    "    return df_copy\n",
    "\n",
    "cleaned_df = preprocess_data(df)\n",
    "\n",
    "# Display the cleaned DataFrame\n",
    "print(cleaned_df)"
   ]
  },
  {
   "cell_type": "markdown",
   "id": "c201cd81",
   "metadata": {},
   "source": [
    "We will conduct summary statistics to see how our data is distributed. This will assist us with checking for outliers which could be due to errors. "
   ]
  },
  {
   "cell_type": "code",
   "execution_count": 44,
   "id": "b5842da2",
   "metadata": {},
   "outputs": [
    {
     "name": "stdout",
     "output_type": "stream",
     "text": [
      "       Bhindi (Ladies finger)      Tomato       Onion      Potato     Brinjal  \\\n",
      "count              287.000000  287.000000  287.000000  287.000000  287.000000   \n",
      "mean                29.444251   16.006969   20.649826   18.585366   31.655052   \n",
      "std                  8.124815    0.118056   11.711204    2.726238   11.725421   \n",
      "min                 17.000000   16.000000    8.000000   12.000000   14.000000   \n",
      "25%                 22.000000   16.000000   12.000000   16.000000   25.000000   \n",
      "50%                 27.500000   16.000000   16.000000   20.000000   30.000000   \n",
      "75%                 33.000000   16.000000   25.000000   20.000000   35.000000   \n",
      "max                 60.000000   18.000000   57.000000   24.000000   80.000000   \n",
      "\n",
      "           Garlic        Peas        Methi  Green Chilli  Elephant Yam (Suran)  \n",
      "count  287.000000  287.000000   287.000000    287.000000            287.000000  \n",
      "mean   133.101045   66.658537    20.383275     44.122404             28.797909  \n",
      "std     60.078331   33.302415   117.428417     12.796590              6.607973  \n",
      "min     50.000000   22.000000     5.000000      0.130000             12.000000  \n",
      "25%     85.000000   40.000000     8.000000     35.000000             25.000000  \n",
      "50%    120.000000   60.000000    12.000000     40.000000             30.000000  \n",
      "75%    165.000000   80.000000    16.000000     50.000000             30.000000  \n",
      "max    290.000000  150.000000  2000.000000     90.000000             50.000000  \n"
     ]
    }
   ],
   "source": [
    "summary_stats = df_copy.describe()\n",
    "print(summary_stats)"
   ]
  },
  {
   "cell_type": "code",
   "execution_count": 51,
   "id": "22e8f5b5",
   "metadata": {},
   "outputs": [
    {
     "data": {
      "image/png": "[encoded data removed]",
      "text/plain": [
       "<Figure size 1200x800 with 1 Axes>"
      ]
     },
     "metadata": {},
     "output_type": "display_data"
    }
   ],
   "source": [
    "## CHECKING FOR OUTLIERS\n",
    "\n",
    "import seaborn as sns\n",
    "import matplotlib.pyplot as plt\n",
    "\n",
    "# Set seaborn style\n",
    "sns.set(style=\"whitegrid\")\n",
    "\n",
    "# Create boxplot for numerical variables\n",
    "plt.figure(figsize=(12, 8))\n",
    "sns.boxplot(data=df_copy, orient='h', palette='Set2')\n",
    "plt.xlabel('Price (INR)')\n",
    "plt.ylabel('Vegetables')\n",
    "plt.title('Prices of Vegetables - Boxplot')\n",
    "plt.show()"
   ]
  },
  {
   "cell_type": "markdown",
   "id": "6e5cb777",
   "metadata": {},
   "source": [
    "Results: There is a value which is extreme and could be due to typing error. We are going to replace the value 2000 on Methi with a Null value"
   ]
  },
  {
   "cell_type": "code",
   "execution_count": 52,
   "id": "40b40238",
   "metadata": {},
   "outputs": [],
   "source": [
    "# Replace the value of 2000 with NaN in the 'Methi' column\n",
    "df_copy['Methi'] = df_copy['Methi'].replace(2000, np.nan)"
   ]
  },
  {
   "cell_type": "code",
   "execution_count": 53,
   "id": "b0907f7e",
   "metadata": {},
   "outputs": [
    {
     "name": "stdout",
     "output_type": "stream",
     "text": [
      "       Bhindi (Ladies finger)      Tomato       Onion      Potato     Brinjal  \\\n",
      "count              287.000000  287.000000  287.000000  287.000000  287.000000   \n",
      "mean                29.444251   16.006969   20.649826   18.585366   31.655052   \n",
      "std                  8.124815    0.118056   11.711204    2.726238   11.725421   \n",
      "min                 17.000000   16.000000    8.000000   12.000000   14.000000   \n",
      "25%                 22.000000   16.000000   12.000000   16.000000   25.000000   \n",
      "50%                 27.500000   16.000000   16.000000   20.000000   30.000000   \n",
      "75%                 33.000000   16.000000   25.000000   20.000000   35.000000   \n",
      "max                 60.000000   18.000000   57.000000   24.000000   80.000000   \n",
      "\n",
      "           Garlic        Peas       Methi  Green Chilli  Elephant Yam (Suran)  \n",
      "count  287.000000  287.000000  286.000000    287.000000            287.000000  \n",
      "mean   133.101045   66.658537   13.461538     44.122404             28.797909  \n",
      "std     60.078331   33.302415    6.266893     12.796590              6.607973  \n",
      "min     50.000000   22.000000    5.000000      0.130000             12.000000  \n",
      "25%     85.000000   40.000000    8.000000     35.000000             25.000000  \n",
      "50%    120.000000   60.000000   12.000000     40.000000             30.000000  \n",
      "75%    165.000000   80.000000   16.000000     50.000000             30.000000  \n",
      "max    290.000000  150.000000   35.000000     90.000000             50.000000  \n"
     ]
    }
   ],
   "source": [
    "summary_stats = df_copy.describe()\n",
    "print(summary_stats)"
   ]
  },
  {
   "cell_type": "markdown",
   "id": "fc5c3f5b",
   "metadata": {},
   "source": [
    "When we loaded the data and checked the summary information about the DataFrame, we noticed that the variable Price dates is an object. We will not change it into date format."
   ]
  },
  {
   "cell_type": "code",
   "execution_count": 54,
   "id": "0e13361e",
   "metadata": {},
   "outputs": [],
   "source": [
    "# Convert 'Price Dates' column to datetime format\n",
    "# Convert 'Price Dates' column to datetime format with the correct date format\n",
    "df_copy['Price Dates'] = pd.to_datetime(df_copy['Price Dates'], format='%d-%m-%Y')\n"
   ]
  }
 ],
 "metadata": {
  "kernelspec": {
   "display_name": "Python 3 (ipykernel)",
   "language": "python",
   "name": "python3"
  },
  "language_info": {
   "codemirror_mode": {
    "name": "ipython",
    "version": 3
   },
   "file_extension": ".py",
   "mimetype": "text/x-python",
   "name": "python",
   "nbconvert_exporter": "python",
   "pygments_lexer": "ipython3",
   "version": "3.11.5"
  }
 },
 "nbformat": 4,
 "nbformat_minor": 5
}
