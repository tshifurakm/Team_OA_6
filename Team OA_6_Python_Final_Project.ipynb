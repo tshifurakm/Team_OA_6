{
 "cells": [
  {
   "cell_type": "markdown",
   "id": "e295ca71-8d10-4ec2-be5c-3026bd2e4d60",
   "metadata": {},
   "source": [
    "## Vegetable Prices Data"
   ]
  },
  {
   "cell_type": "markdown",
   "id": "de80c84a-53e0-4ee7-b38a-706e87938fa8",
   "metadata": {},
   "source": [
    "## Project overview"
   ]
  },
  {
   "cell_type": "markdown",
   "id": "4e001355-6112-4c55-a6b1-99f7775c7c36",
   "metadata": {},
   "source": [
    "#### INTRODUCTION\n",
    "\n",
    "In the bustling world of agricultural markets, where prices can fluctuate as wildly as the weather, understanding the dynamics of vegetable prices is crucial. Picture this: a farmer waking up before dawn, carefully tending to rows of vibrant green crops, each one representing not just sustenance, but livelihood. Yet, as the sun rises, so does uncertainty. Will the prices at market today yield enough profit to sustain the farm? Or will they plummet unexpectedly, leaving the farmer grappling with the harsh realities of an unpredictable market?"
   ]
  },
  {
   "cell_type": "markdown",
   "id": "2c6f9675-9781-467e-8f58-78a29d0fdd3d",
   "metadata": {},
   "source": [
    "#### Problem Statement:\n",
    "\n",
    "The Directorate of Marketing & Inspection (DMI), Ministry of Agriculture and Farmers Welfare and the Government of India, collects extensive data on vegetable prices across different regions in India. However, the lack of comprehensive analysis and insights derived from this data hinders effective decision-making in the agricultural sector. Therefore, the primary problem addressed in this project is to analyze the vegetable pricing trends over a one-year period, leveraging the available dataset. Specifically, the analysis aims to identify patterns, trends, and factors influencing price fluctuations in various types of vegetables across different regions. By addressing this problem, the project seeks to provide actionable insights that can inform policymakers, farmers, and traders, facilitating better decision-making and optimization of pricing strategies, supply chain efficiency, and risk mitigation in the agricultural market."
   ]
  },
  {
   "cell_type": "markdown",
   "id": "89dd9f45-fbc3-44cb-8330-8d2662d9ef6c",
   "metadata": {},
   "source": [
    "#### Objective of the Project: \n",
    "\n",
    "•To analyze vegetable pricing trends across different regions in India over a year.\n",
    "\n",
    "•To identify patterns, trends, and factors influencing price fluctuations in agricultural markets. \n",
    "\n",
    "•To provide insights that can inform stakeholders such as policymakers, farmers, and traders, facilitating better decision-making in the agricultural sector."
   ]
  },
  {
   "cell_type": "markdown",
   "id": "543be4c4-4915-4f1f-96ca-2fe43d67eb1d",
   "metadata": {},
   "source": [
    "#### Data Source: \n",
    "\n",
    "The dataset used in this project is from Kaggle and was sourced from the Directorate of Marketing & Inspection (DMI), Ministry of Agriculture and Farmers Welfare, Government of India. The dataset comprises prices of ten different types of vegetables recorded over time, allowing for comprehensive analysis of pricing dynamics."
   ]
  },
  {
   "cell_type": "markdown",
   "id": "69fae50b-fa5d-4fdb-a2c9-218a21e999ac",
   "metadata": {},
   "source": [
    "#### Importance of the Study:\n",
    "\n",
    "This project holds significant importance in understanding the dynamics of vegetable pricing in India's agricultural market. Analyzing vegetable price trends can aid in optimizing pricing strategies, enables better resource allocation, market forecasting, policy formulation to ensure food security and economic stabilityimproving supply chain efficiency, and mitigating risks associated with price fluctuations. Additionally, insights derived from this study can contribute to informed decision-making by policymakers, ultimately benefiting farmers, traders, and consumers alike. Understanding vegetable price dynamics is crucial for stakeholders in agriculture, economics, and public policy."
   ]
  },
  {
   "cell_type": "markdown",
   "id": "65ae7820-7726-44cf-861a-eb15c8335c02",
   "metadata": {},
   "source": [
    "#### Key Questions or Hypotheses:\n",
    "\n",
    "•   What external factors influence price volatility, such as weather conditions or supply chain disruptions?\n",
    "\n",
    "•\tAre there significant variations in prices among different types of vegetables?\n",
    "\n",
    "•\tHow do external factors such as seasonality, market demand influence vegetable prices?\n",
    "\n",
    "•\tCan we identify any patterns or anomalies in pricing trends that may require further investigation?"
   ]
  },
  {
   "cell_type": "markdown",
   "id": "275160c8-5c9a-46cd-b0bc-4c383c9352c1",
   "metadata": {},
   "source": [
    "#### Methodology Overview:\n",
    "\n",
    "•\tThe analysis will involve exploratory data analysis (EDA) to visualize and understand the distribution of vegetable prices over time and across regions. \n",
    "\n",
    "•\tStatistical analysis will be conducted to quantify variability, identify significant differences, and assess correlations between variables. \n",
    "\n",
    "•\tTime series analysis techniques will be employed to model and forecast future vegetable prices. \n",
    "\n",
    "•\tAdditionally, predictive modeling may be utilized to estimate pricing trends based on historical data and relevant features."
   ]
  },
  {
   "cell_type": "markdown",
   "id": "5225c982-8f9d-46fe-a835-499cc73ca38c",
   "metadata": {},
   "source": [
    "#### Expected Outcomes: \n",
    "\n",
    "The project is expected to yield insights into the drivers of vegetable pricing trends in India, including seasonal patterns, regional variations, and the impact of external factors. These findings can inform stakeholders about market dynamics, enabling them to make informed decisions and implement strategies to enhance efficiency and stability in the agricultural sector."
   ]
  },
  {
   "cell_type": "markdown",
   "id": "1ba2329f-6c53-469c-b883-acfaf00307fd",
   "metadata": {},
   "source": [
    "## Importing Packages"
   ]
  },
  {
   "cell_type": "code",
   "execution_count": 1,
   "id": "200e0792-7ba2-49cf-9c00-7fc7d09f1f58",
   "metadata": {},
   "outputs": [],
   "source": [
    "# Libraries for data loading, manipulation and analysis\n",
    "\n",
    "import numpy as np\n",
    "import pandas as pd\n",
    "import csv\n",
    "import seaborn as sns\n",
    "import matplotlib.pyplot as plt\n",
    "\n",
    "# Displays output inline\n",
    "%matplotlib inline\n",
    "\n",
    "# Libraries for Handing Errors\n",
    "import warnings\n",
    "warnings.filterwarnings('ignore')"
   ]
  },
  {
   "cell_type": "markdown",
   "id": "8abc8677-6c45-4afe-8757-c4b8023753ff",
   "metadata": {},
   "source": [
    "## Loading Data"
   ]
  },
  {
   "cell_type": "code",
   "execution_count": 5,
   "id": "59637483-9c0c-4873-b064-385d456364bc",
   "metadata": {},
   "outputs": [
    {
     "data": {
      "text/html": [
       "<div>\n",
       "<style scoped>\n",
       "    .dataframe tbody tr th:only-of-type {\n",
       "        vertical-align: middle;\n",
       "    }\n",
       "\n",
       "    .dataframe tbody tr th {\n",
       "        vertical-align: top;\n",
       "    }\n",
       "\n",
       "    .dataframe thead th {\n",
       "        text-align: right;\n",
       "    }\n",
       "</style>\n",
       "<table border=\"1\" class=\"dataframe\">\n",
       "  <thead>\n",
       "    <tr style=\"text-align: right;\">\n",
       "      <th></th>\n",
       "      <th>Price Dates</th>\n",
       "      <th>Bhindi (Ladies finger)</th>\n",
       "      <th>Tomato</th>\n",
       "      <th>Onion</th>\n",
       "      <th>Potato</th>\n",
       "      <th>Brinjal</th>\n",
       "      <th>Garlic</th>\n",
       "      <th>Peas</th>\n",
       "      <th>Methi</th>\n",
       "      <th>Green Chilli</th>\n",
       "      <th>Elephant Yam (Suran)</th>\n",
       "    </tr>\n",
       "  </thead>\n",
       "  <tbody>\n",
       "    <tr>\n",
       "      <th>0</th>\n",
       "      <td>01-01-2023</td>\n",
       "      <td>35.0</td>\n",
       "      <td>18</td>\n",
       "      <td>22.0</td>\n",
       "      <td>20</td>\n",
       "      <td>30</td>\n",
       "      <td>50</td>\n",
       "      <td>25</td>\n",
       "      <td>8</td>\n",
       "      <td>45.0</td>\n",
       "      <td>25</td>\n",
       "    </tr>\n",
       "    <tr>\n",
       "      <th>1</th>\n",
       "      <td>02-01-2023</td>\n",
       "      <td>35.0</td>\n",
       "      <td>16</td>\n",
       "      <td>22.0</td>\n",
       "      <td>20</td>\n",
       "      <td>30</td>\n",
       "      <td>55</td>\n",
       "      <td>25</td>\n",
       "      <td>7</td>\n",
       "      <td>40.0</td>\n",
       "      <td>25</td>\n",
       "    </tr>\n",
       "    <tr>\n",
       "      <th>2</th>\n",
       "      <td>03-01-2023</td>\n",
       "      <td>35.0</td>\n",
       "      <td>16</td>\n",
       "      <td>21.0</td>\n",
       "      <td>20</td>\n",
       "      <td>30</td>\n",
       "      <td>55</td>\n",
       "      <td>25</td>\n",
       "      <td>7</td>\n",
       "      <td>40.0</td>\n",
       "      <td>25</td>\n",
       "    </tr>\n",
       "    <tr>\n",
       "      <th>3</th>\n",
       "      <td>04-01-2023</td>\n",
       "      <td>30.0</td>\n",
       "      <td>16</td>\n",
       "      <td>21.0</td>\n",
       "      <td>22</td>\n",
       "      <td>25</td>\n",
       "      <td>55</td>\n",
       "      <td>25</td>\n",
       "      <td>7</td>\n",
       "      <td>40.0</td>\n",
       "      <td>25</td>\n",
       "    </tr>\n",
       "    <tr>\n",
       "      <th>4</th>\n",
       "      <td>08-01-2023</td>\n",
       "      <td>35.0</td>\n",
       "      <td>16</td>\n",
       "      <td>20.0</td>\n",
       "      <td>21</td>\n",
       "      <td>25</td>\n",
       "      <td>55</td>\n",
       "      <td>22</td>\n",
       "      <td>6</td>\n",
       "      <td>35.0</td>\n",
       "      <td>25</td>\n",
       "    </tr>\n",
       "    <tr>\n",
       "      <th>5</th>\n",
       "      <td>11-01-2023</td>\n",
       "      <td>35.0</td>\n",
       "      <td>16</td>\n",
       "      <td>18.0</td>\n",
       "      <td>24</td>\n",
       "      <td>25</td>\n",
       "      <td>55</td>\n",
       "      <td>23</td>\n",
       "      <td>6</td>\n",
       "      <td>35.0</td>\n",
       "      <td>30</td>\n",
       "    </tr>\n",
       "    <tr>\n",
       "      <th>6</th>\n",
       "      <td>12-01-2023</td>\n",
       "      <td>40.0</td>\n",
       "      <td>16</td>\n",
       "      <td>18.0</td>\n",
       "      <td>22</td>\n",
       "      <td>30</td>\n",
       "      <td>65</td>\n",
       "      <td>23</td>\n",
       "      <td>6</td>\n",
       "      <td>35.0</td>\n",
       "      <td>30</td>\n",
       "    </tr>\n",
       "    <tr>\n",
       "      <th>7</th>\n",
       "      <td>15-01-2023</td>\n",
       "      <td>42.0</td>\n",
       "      <td>16</td>\n",
       "      <td>17.0</td>\n",
       "      <td>22</td>\n",
       "      <td>25</td>\n",
       "      <td>65</td>\n",
       "      <td>23</td>\n",
       "      <td>7</td>\n",
       "      <td>35.0</td>\n",
       "      <td>30</td>\n",
       "    </tr>\n",
       "    <tr>\n",
       "      <th>8</th>\n",
       "      <td>17-01-2023</td>\n",
       "      <td>35.0</td>\n",
       "      <td>16</td>\n",
       "      <td>18.0</td>\n",
       "      <td>22</td>\n",
       "      <td>30</td>\n",
       "      <td>65</td>\n",
       "      <td>22</td>\n",
       "      <td>10</td>\n",
       "      <td>40.0</td>\n",
       "      <td>35</td>\n",
       "    </tr>\n",
       "    <tr>\n",
       "      <th>9</th>\n",
       "      <td>22-01-2023</td>\n",
       "      <td>45.0</td>\n",
       "      <td>16</td>\n",
       "      <td>18.0</td>\n",
       "      <td>22</td>\n",
       "      <td>40</td>\n",
       "      <td>65</td>\n",
       "      <td>25</td>\n",
       "      <td>9</td>\n",
       "      <td>40.0</td>\n",
       "      <td>35</td>\n",
       "    </tr>\n",
       "  </tbody>\n",
       "</table>\n",
       "</div>"
      ],
      "text/plain": [
       "  Price Dates  Bhindi (Ladies finger)  Tomato  Onion  Potato  Brinjal  Garlic  \\\n",
       "0  01-01-2023                    35.0      18   22.0      20       30      50   \n",
       "1  02-01-2023                    35.0      16   22.0      20       30      55   \n",
       "2  03-01-2023                    35.0      16   21.0      20       30      55   \n",
       "3  04-01-2023                    30.0      16   21.0      22       25      55   \n",
       "4  08-01-2023                    35.0      16   20.0      21       25      55   \n",
       "5  11-01-2023                    35.0      16   18.0      24       25      55   \n",
       "6  12-01-2023                    40.0      16   18.0      22       30      65   \n",
       "7  15-01-2023                    42.0      16   17.0      22       25      65   \n",
       "8  17-01-2023                    35.0      16   18.0      22       30      65   \n",
       "9  22-01-2023                    45.0      16   18.0      22       40      65   \n",
       "\n",
       "   Peas  Methi  Green Chilli  Elephant Yam (Suran)  \n",
       "0    25      8          45.0                    25  \n",
       "1    25      7          40.0                    25  \n",
       "2    25      7          40.0                    25  \n",
       "3    25      7          40.0                    25  \n",
       "4    22      6          35.0                    25  \n",
       "5    23      6          35.0                    30  \n",
       "6    23      6          35.0                    30  \n",
       "7    23      7          35.0                    30  \n",
       "8    22     10          40.0                    35  \n",
       "9    25      9          40.0                    35  "
      ]
     },
     "execution_count": 5,
     "metadata": {},
     "output_type": "execute_result"
    }
   ],
   "source": [
    "# loading dataset\n",
    "df = pd.read_csv(\"prices.csv\", index_col=False)\n",
    "df.head(10)"
   ]
  },
  {
   "cell_type": "code",
   "execution_count": null,
   "id": "f5373780-af69-4959-9860-fc983777d012",
   "metadata": {},
   "outputs": [],
   "source": []
  }
 ],
 "metadata": {
  "kernelspec": {
   "display_name": "Python 3 (ipykernel)",
   "language": "python",
   "name": "python3"
  },
  "language_info": {
   "codemirror_mode": {
    "name": "ipython",
    "version": 3
   },
   "file_extension": ".py",
   "mimetype": "text/x-python",
   "name": "python",
   "nbconvert_exporter": "python",
   "pygments_lexer": "ipython3",
   "version": "3.11.5"
  }
 },
 "nbformat": 4,
 "nbformat_minor": 5
}
